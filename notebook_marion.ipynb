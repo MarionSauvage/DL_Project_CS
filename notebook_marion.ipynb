{
 "metadata": {
  "language_info": {
   "codemirror_mode": {
    "name": "ipython",
    "version": 3
   },
   "file_extension": ".py",
   "mimetype": "text/x-python",
   "name": "python",
   "nbconvert_exporter": "python",
   "pygments_lexer": "ipython3",
   "version": "3.8.6-final"
  },
  "orig_nbformat": 2,
  "kernelspec": {
   "name": "python3",
   "display_name": "Python 3.8.6 64-bit ('env_ia': venv)",
   "metadata": {
    "interpreter": {
     "hash": "573e73fa5febc78e8081926c3e819a0be2594d57a4946f3e4216fb597db8a945"
    }
   }
  }
 },
 "nbformat": 4,
 "nbformat_minor": 2,
 "cells": [
  {
   "cell_type": "code",
   "execution_count": 23,
   "metadata": {},
   "outputs": [],
   "source": [
    "from PIL import Image\n",
    "import pandas as pd \n",
    "import os\n",
    "import numpy as np \n",
    "import random"
   ]
  },
  {
   "cell_type": "code",
   "execution_count": 24,
   "metadata": {},
   "outputs": [],
   "source": [
    "# Path to all data\n",
    "DATA_PATH = \"../dataset_mri/lgg-mri-segmentation/kaggle_3m/\""
   ]
  },
  {
   "source": [
    "Preprocessing "
   ],
   "cell_type": "markdown",
   "metadata": {}
  },
  {
   "cell_type": "code",
   "execution_count": 25,
   "metadata": {},
   "outputs": [],
   "source": [
    "def load_dataset(data_path):\n",
    "    # Go through all files and create dictionary containing the data\n",
    "    images_dict = {}\n",
    "    for path, subdirs, files in os.walk(data_path):\n",
    "        for name in files:\n",
    "            if 'tif' in name:\n",
    "                file_path = os.path.join(path, name)\n",
    "\n",
    "                # Load image to store it as a numpy array in the dict\n",
    "                img = Image.open(file_path)\n",
    "\n",
    "                if 'mask' in name:\n",
    "                    img_id = name[:-9]               \n",
    "\n",
    "                    if img_id in images_dict:\n",
    "                        images_dict[img_id]['mask_path'] = file_path\n",
    "                    else:\n",
    "                        images_dict[img_id] = {'mask_path': file_path}\n",
    "\n",
    "                    images_dict[img_id]['mask_data'] = np.array(img)\n",
    "                else:\n",
    "                    img_id = name[:-4]\n",
    "\n",
    "                    # Only keep the FLAIR part of the tif image\n",
    "                    img_array = np.array(img)\n",
    "                    img_flair_array = img_array[:, :, 1]\n",
    "\n",
    "                    if img_id in images_dict:\n",
    "                        images_dict[img_id]['image_path'] = file_path\n",
    "                    else:\n",
    "                        images_dict[img_id] = {'image_path': file_path}\n",
    "                    \n",
    "                    images_dict[img_id]['image_data'] = np.array(img_flair_array)\n",
    "\n",
    "    # Create pandas dataframe from images_dict\n",
    "    dataset = pd.DataFrame.from_dict(images_dict, orient='index').reset_index()\n",
    "    dataset = dataset.rename(columns={'index': 'patient_id'})\n",
    "\n",
    "    # Delete images_dict from memory\n",
    "    images_dict.clear()\n",
    "\n",
    "    # Add target values\n",
    "    dataset['tumor'] = dataset['mask_data'].apply(lambda x: 1 if np.max(x) > 0 else 0)\n",
    "\n",
    "    return dataset"
   ]
  },
  {
   "cell_type": "code",
   "execution_count": 26,
   "metadata": {},
   "outputs": [
    {
     "output_type": "execute_result",
     "data": {
      "text/plain": [
       "                    patient_id  \\\n",
       "0      TCGA_CS_4941_19960909_1   \n",
       "1     TCGA_CS_4941_19960909_10   \n",
       "2     TCGA_CS_4941_19960909_11   \n",
       "3     TCGA_CS_4941_19960909_12   \n",
       "4     TCGA_CS_4941_19960909_13   \n",
       "...                        ...   \n",
       "3924  TCGA_HT_A61B_19991127_85   \n",
       "3925  TCGA_HT_A61B_19991127_86   \n",
       "3926  TCGA_HT_A61B_19991127_87   \n",
       "3927  TCGA_HT_A61B_19991127_88   \n",
       "3928   TCGA_HT_A61B_19991127_9   \n",
       "\n",
       "                                             image_path  \\\n",
       "0     ../dataset_mri/lgg-mri-segmentation/kaggle_3m/...   \n",
       "1     ../dataset_mri/lgg-mri-segmentation/kaggle_3m/...   \n",
       "2     ../dataset_mri/lgg-mri-segmentation/kaggle_3m/...   \n",
       "3     ../dataset_mri/lgg-mri-segmentation/kaggle_3m/...   \n",
       "4     ../dataset_mri/lgg-mri-segmentation/kaggle_3m/...   \n",
       "...                                                 ...   \n",
       "3924  ../dataset_mri/lgg-mri-segmentation/kaggle_3m/...   \n",
       "3925  ../dataset_mri/lgg-mri-segmentation/kaggle_3m/...   \n",
       "3926  ../dataset_mri/lgg-mri-segmentation/kaggle_3m/...   \n",
       "3927  ../dataset_mri/lgg-mri-segmentation/kaggle_3m/...   \n",
       "3928  ../dataset_mri/lgg-mri-segmentation/kaggle_3m/...   \n",
       "\n",
       "                                             image_data  \\\n",
       "0     [[0, 0, 0, 0, 0, 0, 0, 0, 0, 0, 0, 0, 0, 0, 0,...   \n",
       "1     [[2, 3, 3, 2, 2, 2, 1, 2, 2, 1, 1, 1, 2, 3, 4,...   \n",
       "2     [[1, 1, 2, 2, 3, 2, 4, 3, 3, 3, 2, 2, 2, 3, 5,...   \n",
       "3     [[4, 2, 2, 4, 3, 2, 2, 2, 3, 4, 4, 3, 2, 2, 3,...   \n",
       "4     [[3, 1, 2, 3, 2, 3, 4, 5, 6, 5, 3, 2, 2, 2, 4,...   \n",
       "...                                                 ...   \n",
       "3924  [[0, 0, 0, 0, 0, 0, 0, 0, 0, 0, 0, 0, 0, 0, 0,...   \n",
       "3925  [[0, 0, 0, 0, 0, 0, 0, 0, 0, 0, 0, 0, 0, 0, 0,...   \n",
       "3926  [[0, 0, 0, 0, 0, 0, 0, 0, 0, 0, 0, 0, 0, 0, 0,...   \n",
       "3927  [[0, 0, 0, 0, 0, 0, 0, 0, 0, 0, 0, 0, 0, 0, 0,...   \n",
       "3928  [[0, 0, 0, 0, 0, 0, 0, 0, 0, 0, 0, 0, 0, 0, 0,...   \n",
       "\n",
       "                                              mask_path  \\\n",
       "0     ../dataset_mri/lgg-mri-segmentation/kaggle_3m/...   \n",
       "1     ../dataset_mri/lgg-mri-segmentation/kaggle_3m/...   \n",
       "2     ../dataset_mri/lgg-mri-segmentation/kaggle_3m/...   \n",
       "3     ../dataset_mri/lgg-mri-segmentation/kaggle_3m/...   \n",
       "4     ../dataset_mri/lgg-mri-segmentation/kaggle_3m/...   \n",
       "...                                                 ...   \n",
       "3924  ../dataset_mri/lgg-mri-segmentation/kaggle_3m/...   \n",
       "3925  ../dataset_mri/lgg-mri-segmentation/kaggle_3m/...   \n",
       "3926  ../dataset_mri/lgg-mri-segmentation/kaggle_3m/...   \n",
       "3927  ../dataset_mri/lgg-mri-segmentation/kaggle_3m/...   \n",
       "3928  ../dataset_mri/lgg-mri-segmentation/kaggle_3m/...   \n",
       "\n",
       "                                              mask_data  tumor  \n",
       "0     [[0, 0, 0, 0, 0, 0, 0, 0, 0, 0, 0, 0, 0, 0, 0,...      0  \n",
       "1     [[0, 0, 0, 0, 0, 0, 0, 0, 0, 0, 0, 0, 0, 0, 0,...      0  \n",
       "2     [[0, 0, 0, 0, 0, 0, 0, 0, 0, 0, 0, 0, 0, 0, 0,...      1  \n",
       "3     [[0, 0, 0, 0, 0, 0, 0, 0, 0, 0, 0, 0, 0, 0, 0,...      1  \n",
       "4     [[0, 0, 0, 0, 0, 0, 0, 0, 0, 0, 0, 0, 0, 0, 0,...      1  \n",
       "...                                                 ...    ...  \n",
       "3924  [[0, 0, 0, 0, 0, 0, 0, 0, 0, 0, 0, 0, 0, 0, 0,...      0  \n",
       "3925  [[0, 0, 0, 0, 0, 0, 0, 0, 0, 0, 0, 0, 0, 0, 0,...      0  \n",
       "3926  [[0, 0, 0, 0, 0, 0, 0, 0, 0, 0, 0, 0, 0, 0, 0,...      0  \n",
       "3927  [[0, 0, 0, 0, 0, 0, 0, 0, 0, 0, 0, 0, 0, 0, 0,...      0  \n",
       "3928  [[0, 0, 0, 0, 0, 0, 0, 0, 0, 0, 0, 0, 0, 0, 0,...      0  \n",
       "\n",
       "[3929 rows x 6 columns]"
      ],
      "text/html": "<div>\n<style scoped>\n    .dataframe tbody tr th:only-of-type {\n        vertical-align: middle;\n    }\n\n    .dataframe tbody tr th {\n        vertical-align: top;\n    }\n\n    .dataframe thead th {\n        text-align: right;\n    }\n</style>\n<table border=\"1\" class=\"dataframe\">\n  <thead>\n    <tr style=\"text-align: right;\">\n      <th></th>\n      <th>patient_id</th>\n      <th>image_path</th>\n      <th>image_data</th>\n      <th>mask_path</th>\n      <th>mask_data</th>\n      <th>tumor</th>\n    </tr>\n  </thead>\n  <tbody>\n    <tr>\n      <th>0</th>\n      <td>TCGA_CS_4941_19960909_1</td>\n      <td>../dataset_mri/lgg-mri-segmentation/kaggle_3m/...</td>\n      <td>[[0, 0, 0, 0, 0, 0, 0, 0, 0, 0, 0, 0, 0, 0, 0,...</td>\n      <td>../dataset_mri/lgg-mri-segmentation/kaggle_3m/...</td>\n      <td>[[0, 0, 0, 0, 0, 0, 0, 0, 0, 0, 0, 0, 0, 0, 0,...</td>\n      <td>0</td>\n    </tr>\n    <tr>\n      <th>1</th>\n      <td>TCGA_CS_4941_19960909_10</td>\n      <td>../dataset_mri/lgg-mri-segmentation/kaggle_3m/...</td>\n      <td>[[2, 3, 3, 2, 2, 2, 1, 2, 2, 1, 1, 1, 2, 3, 4,...</td>\n      <td>../dataset_mri/lgg-mri-segmentation/kaggle_3m/...</td>\n      <td>[[0, 0, 0, 0, 0, 0, 0, 0, 0, 0, 0, 0, 0, 0, 0,...</td>\n      <td>0</td>\n    </tr>\n    <tr>\n      <th>2</th>\n      <td>TCGA_CS_4941_19960909_11</td>\n      <td>../dataset_mri/lgg-mri-segmentation/kaggle_3m/...</td>\n      <td>[[1, 1, 2, 2, 3, 2, 4, 3, 3, 3, 2, 2, 2, 3, 5,...</td>\n      <td>../dataset_mri/lgg-mri-segmentation/kaggle_3m/...</td>\n      <td>[[0, 0, 0, 0, 0, 0, 0, 0, 0, 0, 0, 0, 0, 0, 0,...</td>\n      <td>1</td>\n    </tr>\n    <tr>\n      <th>3</th>\n      <td>TCGA_CS_4941_19960909_12</td>\n      <td>../dataset_mri/lgg-mri-segmentation/kaggle_3m/...</td>\n      <td>[[4, 2, 2, 4, 3, 2, 2, 2, 3, 4, 4, 3, 2, 2, 3,...</td>\n      <td>../dataset_mri/lgg-mri-segmentation/kaggle_3m/...</td>\n      <td>[[0, 0, 0, 0, 0, 0, 0, 0, 0, 0, 0, 0, 0, 0, 0,...</td>\n      <td>1</td>\n    </tr>\n    <tr>\n      <th>4</th>\n      <td>TCGA_CS_4941_19960909_13</td>\n      <td>../dataset_mri/lgg-mri-segmentation/kaggle_3m/...</td>\n      <td>[[3, 1, 2, 3, 2, 3, 4, 5, 6, 5, 3, 2, 2, 2, 4,...</td>\n      <td>../dataset_mri/lgg-mri-segmentation/kaggle_3m/...</td>\n      <td>[[0, 0, 0, 0, 0, 0, 0, 0, 0, 0, 0, 0, 0, 0, 0,...</td>\n      <td>1</td>\n    </tr>\n    <tr>\n      <th>...</th>\n      <td>...</td>\n      <td>...</td>\n      <td>...</td>\n      <td>...</td>\n      <td>...</td>\n      <td>...</td>\n    </tr>\n    <tr>\n      <th>3924</th>\n      <td>TCGA_HT_A61B_19991127_85</td>\n      <td>../dataset_mri/lgg-mri-segmentation/kaggle_3m/...</td>\n      <td>[[0, 0, 0, 0, 0, 0, 0, 0, 0, 0, 0, 0, 0, 0, 0,...</td>\n      <td>../dataset_mri/lgg-mri-segmentation/kaggle_3m/...</td>\n      <td>[[0, 0, 0, 0, 0, 0, 0, 0, 0, 0, 0, 0, 0, 0, 0,...</td>\n      <td>0</td>\n    </tr>\n    <tr>\n      <th>3925</th>\n      <td>TCGA_HT_A61B_19991127_86</td>\n      <td>../dataset_mri/lgg-mri-segmentation/kaggle_3m/...</td>\n      <td>[[0, 0, 0, 0, 0, 0, 0, 0, 0, 0, 0, 0, 0, 0, 0,...</td>\n      <td>../dataset_mri/lgg-mri-segmentation/kaggle_3m/...</td>\n      <td>[[0, 0, 0, 0, 0, 0, 0, 0, 0, 0, 0, 0, 0, 0, 0,...</td>\n      <td>0</td>\n    </tr>\n    <tr>\n      <th>3926</th>\n      <td>TCGA_HT_A61B_19991127_87</td>\n      <td>../dataset_mri/lgg-mri-segmentation/kaggle_3m/...</td>\n      <td>[[0, 0, 0, 0, 0, 0, 0, 0, 0, 0, 0, 0, 0, 0, 0,...</td>\n      <td>../dataset_mri/lgg-mri-segmentation/kaggle_3m/...</td>\n      <td>[[0, 0, 0, 0, 0, 0, 0, 0, 0, 0, 0, 0, 0, 0, 0,...</td>\n      <td>0</td>\n    </tr>\n    <tr>\n      <th>3927</th>\n      <td>TCGA_HT_A61B_19991127_88</td>\n      <td>../dataset_mri/lgg-mri-segmentation/kaggle_3m/...</td>\n      <td>[[0, 0, 0, 0, 0, 0, 0, 0, 0, 0, 0, 0, 0, 0, 0,...</td>\n      <td>../dataset_mri/lgg-mri-segmentation/kaggle_3m/...</td>\n      <td>[[0, 0, 0, 0, 0, 0, 0, 0, 0, 0, 0, 0, 0, 0, 0,...</td>\n      <td>0</td>\n    </tr>\n    <tr>\n      <th>3928</th>\n      <td>TCGA_HT_A61B_19991127_9</td>\n      <td>../dataset_mri/lgg-mri-segmentation/kaggle_3m/...</td>\n      <td>[[0, 0, 0, 0, 0, 0, 0, 0, 0, 0, 0, 0, 0, 0, 0,...</td>\n      <td>../dataset_mri/lgg-mri-segmentation/kaggle_3m/...</td>\n      <td>[[0, 0, 0, 0, 0, 0, 0, 0, 0, 0, 0, 0, 0, 0, 0,...</td>\n      <td>0</td>\n    </tr>\n  </tbody>\n</table>\n<p>3929 rows × 6 columns</p>\n</div>"
     },
     "metadata": {},
     "execution_count": 26
    }
   ],
   "source": [
    "load_dataset(DATA_PATH)"
   ]
  },
  {
   "cell_type": "code",
   "execution_count": null,
   "metadata": {},
   "outputs": [],
   "source": [
    "data_path_2='..'"
   ]
  }
 ]
}